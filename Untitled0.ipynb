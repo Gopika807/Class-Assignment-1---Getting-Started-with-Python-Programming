{
  "nbformat": 4,
  "nbformat_minor": 0,
  "metadata": {
    "colab": {
      "name": "Untitled0.ipynb",
      "provenance": [],
      "authorship_tag": "ABX9TyNpCq7mfpMxACNr5SroLCrf",
      "include_colab_link": true
    },
    "kernelspec": {
      "name": "python3",
      "display_name": "Python 3"
    }
  },
  "cells": [
    {
      "cell_type": "markdown",
      "metadata": {
        "id": "view-in-github",
        "colab_type": "text"
      },
      "source": [
        "<a href=\"https://colab.research.google.com/github/Gopika807/Class-Assignment-1---Getting-Started-with-Python-Programming/blob/master/Untitled0.ipynb\" target=\"_parent\"><img src=\"https://colab.research.google.com/assets/colab-badge.svg\" alt=\"Open In Colab\"/></a>"
      ]
    },
    {
      "cell_type": "code",
      "metadata": {
        "id": "EugHrjLhFrRm",
        "colab_type": "code",
        "colab": {
          "base_uri": "https://localhost:8080/",
          "height": 127
        },
        "outputId": "921827fc-9420-47ef-9450-7cf38c6bf20e"
      },
      "source": [
        " \n",
        "1\n",
        "string1 = input(\"Enter the first string: \")\n",
        "print(string1,end = \"\\n\")\n",
        "string2 = input(\"Enter the second string: \")\n",
        "print(string2,end = \"\\n\")\n",
        "print(\"Are both strings equal or not: \",end = \" \")\n",
        "if (string1 == string2):\n",
        "  print(\"Equal\")\n",
        "else:\n",
        "  print(\"Not Equal\")"
      ],
      "execution_count": null,
      "outputs": [
        {
          "output_type": "stream",
          "text": [
            "Enter the first string: paris\n",
            "paris\n",
            "Enter the second string: Paris\n",
            "Paris\n",
            "Are both strings equal or not:  Not Equal\n"
          ],
          "name": "stdout"
        }
      ]
    },
    {
      "cell_type": "code",
      "metadata": {
        "id": "JmQjoubSJnQy",
        "colab_type": "code",
        "colab": {
          "base_uri": "https://localhost:8080/",
          "height": 61
        },
        "outputId": "46c5997a-55d9-41ab-bd2c-8cbe156015c4"
      },
      "source": [
        "2\n",
        "a = int(input(\"Enter the first: \"))\n",
        "b = int(input(\"Enter the second number: \"))\n",
        "sum = a+b\n",
        "print(\"sum = \",sum)"
      ],
      "execution_count": null,
      "outputs": [
        {
          "output_type": "stream",
          "text": [
            "Enter the first number: 15\n",
            "Enter the second number: 30\n",
            "sum =  45\n"
          ],
          "name": "stdout"
        }
      ]
    },
    {
      "cell_type": "code",
      "metadata": {
        "id": "Y-aOur5uJvve",
        "colab_type": "code",
        "colab": {
          "base_uri": "https://localhost:8080/",
          "height": 47
        },
        "outputId": "4396d316-7d63-4326-fa56-8df175238ed8"
      },
      "source": [
        "3\n",
        "number = int(input(\"Enter a number: \"))\n",
        "sqrt = number**0.5\n",
        "print(\"square root: \",sqrt)"
      ],
      "execution_count": null,
      "outputs": [
        {
          "output_type": "stream",
          "text": [
            "Enter a number: 25\n",
            "square root:  5.0\n"
          ],
          "name": "stdout"
        }
      ]
    },
    {
      "cell_type": "code",
      "metadata": {
        "id": "KSNc_TcYKH53",
        "colab_type": "code",
        "colab": {
          "base_uri": "https://localhost:8080/",
          "height": 115
        },
        "outputId": "750feac5-248b-46be-9f2d-bd16e0482fb7"
      },
      "source": [
        " \n",
        "4\n",
        "a = float(input(\"enter the first side: \"))\n",
        "b = float(input(\"enter the second side: \"))\n",
        "c = float(input(\"enter the third side: \"))\n",
        "s = (a+b+c)/2\n",
        "area = (s*(s-a)*(s-b)*(s-c))**0.5\n",
        "print(\"The area of the triangle is \",area)"
      ],
      "execution_count": null,
      "outputs": [
        {
          "output_type": "stream",
          "text": [
            "enter the first side: 6\n",
            "enter the second side: 5\n",
            "enter the third side: 7\n",
            "The area of the triangle is  14.696938456699069\n"
          ],
          "name": "stdout"
        }
      ]
    },
    {
      "cell_type": "code",
      "metadata": {
        "id": "DL5TfnxrKakH",
        "colab_type": "code",
        "colab": {
          "base_uri": "https://localhost:8080/",
          "height": 47
        },
        "outputId": "7d4d0c45-9ca1-4b89-ccbb-ca893d6c4988"
      },
      "source": [
        " \n",
        "5\n",
        "celsius = float(input(\"enter the temperature in celsius: \"))\n",
        "fahrenheit = (celsius*9/5)+32\n",
        "print(\"Temperature in fahrenkheit is: \",fahrenheit)"
      ],
      "execution_count": null,
      "outputs": [
        {
          "output_type": "stream",
          "text": [
            "enter the temperature in celsius: 120\n",
            "Temperature in fahrenkheit is:  248.0\n"
          ],
          "name": "stdout"
        }
      ]
    },
    {
      "cell_type": "code",
      "metadata": {
        "id": "looCHB2MKkx_",
        "colab_type": "code",
        "colab": {
          "base_uri": "https://localhost:8080/",
          "height": 47
        },
        "outputId": "c7d73f88-6a3e-418e-e822-53ab7935cf5b"
      },
      "source": [
        "6\n",
        "num = int(input(\"enter a number: \"))\n",
        "if num > 0:\n",
        "  print(\"{0} is a positive number\".format(num))\n",
        "elif num == 0:\n",
        "  print(\"{0} is zero\".format(num))\n",
        "else:\n",
        "  print(\"{0} is a negative number\".format(num))"
      ],
      "execution_count": null,
      "outputs": [
        {
          "output_type": "stream",
          "text": [
            "enter a number: -7\n",
            "-7 is a negative number\n"
          ],
          "name": "stdout"
        }
      ]
    },
    {
      "cell_type": "code",
      "metadata": {
        "id": "t7c4vi51Km1d",
        "colab_type": "code",
        "colab": {
          "base_uri": "https://localhost:8080/",
          "height": 75
        },
        "outputId": "6ede50b8-0ab8-43af-8577-64c66601bb02"
      },
      "source": [
        " \n",
        "7\n",
        "num1 = int(input(\"enter the first number: \"))\n",
        "num2 = int(input(\"enter the second number: \"))\n",
        "num3 = int(input(\"enter the third number: \"))\n",
        "if(num1 > num2) and (num1 > num3):\n",
        "  largest = num1\n",
        "elif(num2 > num1) and (num2 > num3):\n",
        "  largest = num2\n",
        "else:\n",
        "  largest = num3\n",
        "print(\"the largest number is \",largest)"
      ],
      "execution_count": null,
      "outputs": [
        {
          "output_type": "stream",
          "text": [
            "enter the first number: 60\n",
            "enter the second number: 56\n",
            "enter the third number: 36\n",
            "the largest number is  60\n"
          ],
          "name": "stdout"
        }
      ]
    }
  ]
}
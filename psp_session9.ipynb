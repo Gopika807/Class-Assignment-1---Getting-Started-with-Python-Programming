{
  "nbformat": 4,
  "nbformat_minor": 0,
  "metadata": {
    "colab": {
      "name": "Untitled6.ipynb",
      "provenance": [],
      "authorship_tag": "ABX9TyNVkMdizAR/eZtVa+zYLBTO",
      "include_colab_link": true
    },
    "kernelspec": {
      "name": "python3",
      "display_name": "Python 3"
    }
  },
  "cells": [
    {
      "cell_type": "markdown",
      "metadata": {
        "id": "view-in-github",
        "colab_type": "text"
      },
      "source": [
        "<a href=\"https://colab.research.google.com/github/Gopika807/Class-Assignment-1---Getting-Started-with-Python-Programming/blob/master/psp_session9.ipynb\" target=\"_parent\"><img src=\"https://colab.research.google.com/assets/colab-badge.svg\" alt=\"Open In Colab\"/></a>"
      ]
    },
    {
      "cell_type": "code",
      "metadata": {
        "colab": {
          "base_uri": "https://localhost:8080/"
        },
        "id": "Aho5xEozTBXa",
        "outputId": "38d20b75-c314-4769-f648-b8f1ab674547"
      },
      "source": [
        "def is_sublist(l,s):\r\n",
        "  sub_set = False\r\n",
        "  if s == []:\r\n",
        "    sub_set = True\r\n",
        "  elif s == 1:\r\n",
        "    sub_set = True\r\n",
        "  elif len(s)>len(l):\r\n",
        "    sub_set = False\r\n",
        "  else:\r\n",
        "    for i in range(len(l)):\r\n",
        "      if l[i] == s[0]:\r\n",
        "        n= 1\r\n",
        "        while (n<len(s)) and (l[i+n] == s[n]):\r\n",
        "          n += 1\r\n",
        "    if n == len(s):\r\n",
        "         sub_set = True\r\n",
        "  return sub_set\r\n",
        "\r\n",
        "a =[2,4,3,5,7]\r\n",
        "b =[4,3]\r\n",
        "c =[3,7]\r\n",
        "print(is_sublist(a,b))\r\n",
        "print(is_sublist(a,c))\r\n"
      ],
      "execution_count": 10,
      "outputs": [
        {
          "output_type": "stream",
          "text": [
            "True\n",
            "False\n"
          ],
          "name": "stdout"
        }
      ]
    },
    {
      "cell_type": "code",
      "metadata": {
        "colab": {
          "base_uri": "https://localhost:8080/"
        },
        "id": "LZpjsq6oW2w1",
        "outputId": "1a529f3c-7a12-47f2-b308-aadb18550a73"
      },
      "source": [
        "import collections\r\n",
        "my_list = [10,10,10,10,20,20,20,20,40,40,50,50,30]\r\n",
        "print(\"Original List :\",my_list)\r\n",
        "ctr = collections.Counter(my_list)\r\n",
        "print(\"Frequency of the elements in the List:\",ctr)"
      ],
      "execution_count": 11,
      "outputs": [
        {
          "output_type": "stream",
          "text": [
            "Original List : [10, 10, 10, 10, 20, 20, 20, 20, 40, 40, 50, 50, 30]\n",
            "Frequency of the elements in the List: Counter({10: 4, 20: 4, 40: 2, 50: 2, 30: 1})\n"
          ],
          "name": "stdout"
        }
      ]
    },
    {
      "cell_type": "code",
      "metadata": {
        "colab": {
          "base_uri": "https://localhost:8080/"
        },
        "id": "anMVt8M_XzjI",
        "outputId": "b99cc0ab-4095-4cff-9999-013327e055c0"
      },
      "source": [
        "a=[]\r\n",
        "n=int(input(\"Enter number of elements:\"))\r\n",
        "for i in range(1,n+1):\r\n",
        "  b=int(input(\"Enter element:\"))\r\n",
        "  a.append(b)\r\n",
        "a.sort()\r\n",
        "print(\"Second largest element is:\",a[n-2])"
      ],
      "execution_count": 12,
      "outputs": [
        {
          "output_type": "stream",
          "text": [
            "Enter number of elements:5\n",
            "Enter element:23\n",
            "Enter element:25\n",
            "Enter element:34\n",
            "Enter element:30\n",
            "Enter element:19\n",
            "Second largest element is: 30\n"
          ],
          "name": "stdout"
        }
      ]
    },
    {
      "cell_type": "code",
      "metadata": {
        "colab": {
          "base_uri": "https://localhost:8080/"
        },
        "id": "Pr7iQk78ZM24",
        "outputId": "4f689878-9512-4ea2-9e76-910411e20d38"
      },
      "source": [
        "def count_range_in_list(li,min,max):\r\n",
        "  ctr = 0\r\n",
        "  for x in li:\r\n",
        "    if min <=x <=max:\r\n",
        "      ctr +=1\r\n",
        "    return ctr\r\n",
        "\r\n",
        "list1 = [10,20,30,40,40,40,70,80,99]\r\n",
        "print(count_range_in_list(list1,40,100))\r\n",
        "\r\n",
        "list2 = ['a','b','c','d','e','f']\r\n",
        "print(count_range_in_list(list2,'a','e'))\r\n"
      ],
      "execution_count": 15,
      "outputs": [
        {
          "output_type": "stream",
          "text": [
            "0\n",
            "1\n"
          ],
          "name": "stdout"
        }
      ]
    },
    {
      "cell_type": "code",
      "metadata": {
        "id": "M_kEY56mai7W"
      },
      "source": [
        "def second_smallest(numbers):\r\n",
        "  if (len(numbers)<2):\r\n",
        "    return\r\n",
        "    if ((len(numbers)==2) and (numbers[0] == numbers[1])):\r\n",
        "      return\r\n",
        "      dup_items = set()\r\n",
        "      uniq_items =[]\r\n",
        "      for x in numbers:\r\n",
        "        if x not in dup_items:\r\n",
        "          uniq_items.append(x)\r\n",
        "          dup_items.add(x)\r\n",
        "        uniq_items.sort()\r\n",
        "        return uniq_items[1]\r\n",
        "\r\n",
        "  print(second_smallest([1,2,-8,-2,0,-2]))\r\n",
        "  print(second_smallest([1,1,0,0,2,-2,-2]))\r\n",
        "  print(second_smallest([1,1,1,0,0,0,2,-2,-2]))\r\n",
        "  print(second_smallest([2,2]))\r\n",
        "  print(second_smallest([2]))"
      ],
      "execution_count": 16,
      "outputs": []
    }
  ]
}